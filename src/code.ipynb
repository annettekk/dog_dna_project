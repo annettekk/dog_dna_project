{
 "cells": [
  {
   "cell_type": "markdown",
   "metadata": {},
   "source": [
    "Read file"
   ]
  },
  {
   "cell_type": "code",
   "execution_count": null,
   "metadata": {},
   "outputs": [],
   "source": [
    "from Bio import SeqIO\n",
    "from Bio.SeqRecord import SeqRecord\n",
    "from typing import List, Tuple\n",
    "\n",
    "def load_fasta_records(mystery_file: str, database_file: str) -> Tuple[SeqRecord, List[SeqRecord]]:\n",
    "    \"\"\"\n",
    "    Loads a single sequence (mystery_record) and a list of sequences (database_records) from FASTA files.\n",
    "\n",
    "    Parameters:\n",
    "    - mystery_file (str): Path to the FASTA file containing the mystery sequence.\n",
    "    - database_file (str): Path to the FASTA file containing the database of target sequences.\n",
    "\n",
    "    Returns:\n",
    "    - Tuple[SeqRecord, List[SeqRecord]]:\n",
    "        - A SeqRecord object for the mystery sequence.\n",
    "        - A list of SeqRecord objects for the database sequences.\n",
    "    \"\"\"\n",
    "    # mystery_file = '..\\\\data\\\\mystery.fa'\n",
    "    # database_file = '..\\\\data\\\\dog_breeds.fa'\n",
    "\n",
    "    mystery_record = SeqIO.read(mystery_file, 'fasta')\n",
    "    database_records = list(SeqIO.parse(database_file, 'fasta'))\n",
    "\n",
    "    return mystery_record, database_records\n",
    "\n",
    "load_fasta_records('..\\\\data\\\\mystery.fa', '..\\\\data\\\\dog_breeds.fa')"
   ]
  },
  {
   "cell_type": "markdown",
   "metadata": {},
   "source": [
    "Process data"
   ]
  },
  {
   "cell_type": "code",
   "execution_count": 28,
   "metadata": {},
   "outputs": [
    {
     "data": {
      "text/plain": [
       "(<Alignment object (2 rows x 16759 columns) at 0x29661d88110>,\n",
       " 16711.0,\n",
       " 'gb|AY656744.1| [location=mitochondrion] [completeness=complete] [topology=circular] [organism=Canis lupus familiaris] [isolate=1] [sub_species=familiaris] [breed=English Springer Spaniel] [gcode=2] Canis lupus familiaris isolate 1 breed English Springer Spaniel mitochondrion, complete genome.')"
      ]
     },
     "execution_count": 28,
     "metadata": {},
     "output_type": "execute_result"
    }
   ],
   "source": [
    "\n",
    "from Bio import Align\n",
    "\n",
    "def find_best_alignment(mystery_record: SeqRecord, database_records: List[SeqRecord]) -> Tuple[Align.Alignment, float, str]:\n",
    "    \"\"\"\n",
    "    Performs local pairwise alignment between a query sequence and multiple target sequences,\n",
    "    returning the best alignment based on the highest score.\n",
    "\n",
    "    Parameters:\n",
    "    - mystery_record (SeqRecord): A SeqRecord object containing the query sequence.\n",
    "    - database_records (List[SeqRecord]): A list of SeqRecord objects containing target sequences.\n",
    "\n",
    "    Returns:\n",
    "    - Tuple[Align.Alignment, float, str]: \n",
    "        - Best alignment object.\n",
    "        - Best alignment score.\n",
    "        - Best alignment description (from the target sequence).\n",
    "    \"\"\"\n",
    "\n",
    "    # Initialize the aligner\n",
    "    aligner = Align.PairwiseAligner()\n",
    "    aligner.mode = \"local\"\n",
    "\n",
    "    query = mystery_record.seq\n",
    "    best_alignments: List[Tuple[Align.Alignment, str]] = []\n",
    "\n",
    "    # Iterate over target sequences and compute alignments\n",
    "    for target in database_records:\n",
    "        target_seq = target.seq\n",
    "        alignments = aligner.align(target_seq, query)\n",
    "        best_alignment = alignments[0]\n",
    "        best_alignments.append((best_alignment, target.description))\n",
    "\n",
    "    # Find the overall best alignment across all targets    \n",
    "    search_result = max(best_alignments, key=lambda x: x[0].score)\n",
    "    search_result_alignment = search_result[0]\n",
    "    search_result_score = search_result_alignment.score\n",
    "    search_result_description = search_result[1]\n",
    "\n",
    "    return search_result_alignment, search_result_score, search_result_description\n",
    "\n",
    "    # print(f\"Best Alignment Score: {search_result_score}\")\n",
    "    # print(f\"Best Alignment Description: {search_result_description}\")\n",
    "    # print(search_result_alignment)\n",
    "\n",
    "find_best_alignment(mystery_record, database_records)"
   ]
  },
  {
   "cell_type": "markdown",
   "metadata": {},
   "source": [
    "Output results"
   ]
  },
  {
   "cell_type": "code",
   "execution_count": 29,
   "metadata": {},
   "outputs": [
    {
     "name": "stdout",
     "output_type": "stream",
     "text": [
      "Best alignment results saved to: ..\\results\\best_alignment.txt\n"
     ]
    }
   ],
   "source": [
    "from Bio.Align import Alignment\n",
    "\n",
    "def save_best_alignment_result(search_result_alignment: Alignment, search_result_score: float, search_result_description: str) -> None:\n",
    "    \"\"\"\n",
    "    Generates and saves the best alignment result to a text file.\n",
    "\n",
    "    Parameters:\n",
    "    - search_result_alignment (Alignment): The best alignment object.\n",
    "    - search_result_score (float): The score of the best alignment.\n",
    "    - search_result_description (str): The description of the best alignment (e.g., target sequence description).\n",
    "\n",
    "    Returns:\n",
    "    - None\n",
    "    \"\"\"\n",
    "\n",
    "    # Generate the results string\n",
    "    search_results = (f\"Best Alignment Score: {search_result_score}\\n\"\n",
    "                    f\"Best Alignment Description: {search_result_description}\\n\"\n",
    "                    f\"{str(search_result_alignment)}\")\n",
    "        \n",
    "    # Define the file path and name\n",
    "    new_file = '..\\\\results\\\\' + 'best_alignment.txt'\n",
    "\n",
    "    # Write the results to the file\n",
    "    with open(new_file, 'w') as f_out:\n",
    "        f_out.write(search_results)\n",
    "\n",
    "    print(f\"Best alignment results saved to: {new_file}\")\n",
    "\n",
    "save_best_alignment_result(search_result_alignment, search_result_score, search_result_description)"
   ]
  }
 ],
 "metadata": {
  "kernelspec": {
   "display_name": "Python 3",
   "language": "python",
   "name": "python3"
  },
  "language_info": {
   "codemirror_mode": {
    "name": "ipython",
    "version": 3
   },
   "file_extension": ".py",
   "mimetype": "text/x-python",
   "name": "python",
   "nbconvert_exporter": "python",
   "pygments_lexer": "ipython3",
   "version": "3.13.1"
  }
 },
 "nbformat": 4,
 "nbformat_minor": 2
}
